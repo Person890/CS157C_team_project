{
 "cells": [
  {
   "cell_type": "code",
   "execution_count": 27,
   "metadata": {},
   "outputs": [],
   "source": [
    "import pandas as pd\n",
    "from pymongo import MongoClient\n",
    "import json"
   ]
  },
  {
   "cell_type": "markdown",
   "metadata": {},
   "source": [
    "Connect to MongoDB"
   ]
  },
  {
   "cell_type": "code",
   "execution_count": 52,
   "metadata": {},
   "outputs": [],
   "source": [
    "client = MongoClient(\"mongodb://34.228.18.117:27021\")\n",
    "db = client.police"
   ]
  },
  {
   "cell_type": "markdown",
   "metadata": {},
   "source": [
    "### Inserting the data"
   ]
  },
  {
   "cell_type": "code",
   "execution_count": 53,
   "metadata": {},
   "outputs": [
    {
     "name": "stdout",
     "output_type": "stream",
     "text": [
      "about to insert file for 2013\n",
      "about to insert file for 2014\n",
      "about to insert file for 2015\n",
      "about to insert file for 2016\n",
      "about to insert file for 2017\n",
      "about to insert file for 2018\n",
      "about to insert file for 2019\n",
      "about to insert file for 2020\n",
      "about to insert file for 2021\n",
      "about to insert file for 2022\n"
     ]
    }
   ],
   "source": [
    "# Creating an array with the name of all files\n",
    "str_start = \"policecalls/policecalls20\"\n",
    "str_end = \".csv\"\n",
    "yrs = [\"13\",\"14\",\"15\",\"16\",\"17\",\"18\",\"19\",\"20\",\"21\",\"22\"]\n",
    "for yr in yrs:\n",
    "    file = str(str_start + yr + str_end)\n",
    "    data = pd.read_csv(file)\n",
    "    payload = json.loads(data.to_json(orient='records'))\n",
    "    print(\"about to insert file for 20\"+ yr)\n",
    "    db.policeData.insert_many(payload)"
   ]
  },
  {
   "cell_type": "markdown",
   "metadata": {},
   "source": [
    "Test that it worked"
   ]
  },
  {
   "cell_type": "code",
   "execution_count": 56,
   "metadata": {},
   "outputs": [
    {
     "name": "stdout",
     "output_type": "stream",
     "text": [
      "{'_id': ObjectId('62e619e5d13b52625f171e14'), 'CDTS': '20130101000052PS', 'EID': 4684476, 'START_DATE': '13-MAY-21', 'CALL_NUMBER': 'P123660873', 'PRIORITY': 4, 'REPORT_DATE': '2013-01-01', 'OFFENSE_DATE': '2013-01-01', 'OFFENSE_TIME': '00:00:06', 'CALLTYPE_CODE': '415FC', 'CALL_TYPE': 'DISTURBANCE, FIRECRACKERS', 'FINAL_DISPO_CODE': 'NR', 'FINAL_DISPO': 'No Response', 'COMMON_PLACE_NAME': None, 'ADDRESS': 'UTOPIA PL & PEAK DR', 'CITY': 'San Jose', 'STATE': 'CA'}\n",
      "{'_id': ObjectId('62e619e5d13b52625f171e15'), 'CDTS': '20130101032822PS', 'EID': 4684484, 'START_DATE': '13-MAY-21', 'CALL_NUMBER': 'P130010002', 'PRIORITY': 4, 'REPORT_DATE': '2013-01-01', 'OFFENSE_DATE': '2013-01-01', 'OFFENSE_TIME': '00:01:05', 'CALLTYPE_CODE': '1062', 'CALL_TYPE': 'MEET THE CITIZEN', 'FINAL_DISPO_CODE': 'G', 'FINAL_DISPO': 'Gone on Arrival/unable to locate', 'COMMON_PLACE_NAME': None, 'ADDRESS': 'QUIMBY RD & S WHITE RD', 'CITY': 'San Jose', 'STATE': 'CA'}\n"
     ]
    }
   ],
   "source": [
    "for data in db.policeData.find().limit(2):\n",
    "    print(data)"
   ]
  },
  {
   "cell_type": "markdown",
   "metadata": {},
   "source": [
    "### Create Indexes"
   ]
  },
  {
   "cell_type": "code",
   "execution_count": 57,
   "metadata": {},
   "outputs": [
    {
     "data": {
      "text/plain": [
       "'EID_1'"
      ]
     },
     "execution_count": 57,
     "metadata": {},
     "output_type": "execute_result"
    }
   ],
   "source": [
    "db.policeData.create_index(\"CALL_NUMBER\")\n",
    "db.policeData.create_index(\"REPORT_DATE\")\n",
    "db.policeData.create_index(\"EID\")"
   ]
  },
  {
   "cell_type": "code",
   "execution_count": 58,
   "metadata": {},
   "outputs": [],
   "source": [
    "client.close()"
   ]
  }
 ],
 "metadata": {
  "interpreter": {
   "hash": "31f2aee4e71d21fbe5cf8b01ff0e069b9275f58929596ceb00d14d90e3e16cd6"
  },
  "kernelspec": {
   "display_name": "Python 3.8.9 64-bit",
   "language": "python",
   "name": "python3"
  },
  "language_info": {
   "codemirror_mode": {
    "name": "ipython",
    "version": 3
   },
   "file_extension": ".py",
   "mimetype": "text/x-python",
   "name": "python",
   "nbconvert_exporter": "python",
   "pygments_lexer": "ipython3",
   "version": "3.8.9"
  },
  "orig_nbformat": 4
 },
 "nbformat": 4,
 "nbformat_minor": 2
}
